{
 "cells": [
  {
   "cell_type": "code",
   "execution_count": 1,
   "metadata": {},
   "outputs": [
    {
     "name": "stderr",
     "output_type": "stream",
     "text": [
      "C:\\Users\\Azaghast\\Anaconda3\\envs\\tf2-gpu-cuda10\\lib\\site-packages\\librosa\\util\\decorators.py:9: NumbaDeprecationWarning: \u001b[1mAn import was requested from a module that has moved location.\n",
      "Import requested from: 'numba.decorators', please update to use 'numba.core.decorators' or pin to Numba version 0.48.0. This alias will not be present in Numba version 0.50.0.\u001b[0m\n",
      "  from numba.decorators import jit as optional_jit\n",
      "C:\\Users\\Azaghast\\Anaconda3\\envs\\tf2-gpu-cuda10\\lib\\site-packages\\librosa\\util\\decorators.py:9: NumbaDeprecationWarning: \u001b[1mAn import was requested from a module that has moved location.\n",
      "Import of 'jit' requested from: 'numba.decorators', please update to use 'numba.core.decorators' or pin to Numba version 0.48.0. This alias will not be present in Numba version 0.50.0.\u001b[0m\n",
      "  from numba.decorators import jit as optional_jit\n"
     ]
    }
   ],
   "source": [
    "import librosa\n",
    "import librosa.display\n",
    "import numpy as np\n",
    "import matplotlib.pyplot as plt\n",
    "import tensorflow as tf\n",
    "from tensorflow.keras.models import Sequential\n",
    "from tensorflow.keras.layers import Dense\n",
    "from tensorflow.keras.layers import Input, Flatten, Dropout, Activation\n",
    "from tensorflow.keras.models import Model\n",
    "import os\n",
    "import tensorflow.keras"
   ]
  },
  {
   "cell_type": "code",
   "execution_count": 2,
   "metadata": {},
   "outputs": [],
   "source": [
    "gpus = tf.config.experimental.list_physical_devices('GPU')\n",
    "tf.config.experimental.set_memory_growth(gpus[0], True)"
   ]
  },
  {
   "cell_type": "code",
   "execution_count": 3,
   "metadata": {},
   "outputs": [],
   "source": [
    "train_dir = \"C:\\\\Users\\\\Azaghast\\\\Downloads\\\\Audio_Speech_Actors_01-24\\\\Train\"\n",
    "test_dir = \"C:\\\\Users\\\\Azaghast\\\\Downloads\\\\Audio_Speech_Actors_01-24\\\\Test\"\n",
    "val_dir = \"C:\\\\Users\\\\Azaghast\\\\Downloads\\\\Audio_Speech_Actors_01-24\\\\Validation\"\n",
    "fear_train = \"C:\\\\Users\\\\Azaghast\\\\Downloads\\\\Audio_Speech_Actors_01-24\\\\Train\\\\fear_train\"\n",
    "fear_test = \"C:\\\\Users\\\\Azaghast\\\\Downloads\\\\Audio_Speech_Actors_01-24\\\\Test\\\\fear_test\"\n",
    "fear_val = \"C:\\\\Users\\\\Azaghast\\\\Downloads\\\\Audio_Speech_Actors_01-24\\\\Validation\\\\fear_val\"\n",
    "others_train = \"C:\\\\Users\\\\Azaghast\\\\Downloads\\\\Audio_Speech_Actors_01-24\\\\Train\\\\others_train\"\n",
    "others_test = \"C:\\\\Users\\\\Azaghast\\\\Downloads\\\\Audio_Speech_Actors_01-24\\\\Test\\\\others_test\"\n",
    "others_val = \"C:\\\\Users\\\\Azaghast\\\\Downloads\\\\Audio_Speech_Actors_01-24\\\\Validation\\\\others_val\""
   ]
  },
  {
   "cell_type": "code",
   "execution_count": 4,
   "metadata": {},
   "outputs": [
    {
     "name": "stdout",
     "output_type": "stream",
     "text": [
      "157 36 0 157 36 0\n"
     ]
    }
   ],
   "source": [
    "num_fear_tr = len(os.listdir(fear_train))\n",
    "num_fear_val = len(os.listdir(fear_val))\n",
    "num_fear_test = len(os.listdir(fear_test))\n",
    "\n",
    "num_others_tr = len(os.listdir(others_train))\n",
    "num_others_val = len(os.listdir(others_val))\n",
    "num_others_test = len(os.listdir(others_test))\n",
    "\n",
    "print(num_fear_tr,num_fear_val,num_fear_test,num_others_tr,num_others_val,num_others_test)"
   ]
  },
  {
   "cell_type": "code",
   "execution_count": 5,
   "metadata": {},
   "outputs": [
    {
     "data": {
      "text/plain": [
       "\"high = 0\\nfor subdir, dir,files in os.walk(train_dir):#train has highest mfccs.shape[1] as of this dataset\\n        for file in files:\\n            data, sr = librosa.load(os.path.join(subdir,file), res_type = 'kaiser_fast')\\n            mfccs = librosa.feature.mfcc(y = data, n_mfcc = 1000,sr=sr )\\n            if mfccs.shape[1] > high:\\n                high = mfccs.shape[1]\\nprint(high)\""
      ]
     },
     "execution_count": 5,
     "metadata": {},
     "output_type": "execute_result"
    }
   ],
   "source": [
    "'''high = 0\n",
    "for subdir, dir,files in os.walk(train_dir):#train has highest mfccs.shape[1] as of this dataset\n",
    "        for file in files:\n",
    "            data, sr = librosa.load(os.path.join(subdir,file), res_type = 'kaiser_fast')\n",
    "            mfccs = librosa.feature.mfcc(y = data, n_mfcc = 1000,sr=sr )\n",
    "            if mfccs.shape[1] > high:\n",
    "                high = mfccs.shape[1]\n",
    "print(high)'''"
   ]
  },
  {
   "cell_type": "code",
   "execution_count": 6,
   "metadata": {},
   "outputs": [],
   "source": [
    "def split_train_val_test(dir_name):\n",
    "    holder = []\n",
    "    for subdir, dir,files in os.walk(dir_name):\n",
    "        for file in files:\n",
    "            data, sr = librosa.load(os.path.join(subdir,file), res_type = 'kaiser_fast')\n",
    "            mfccs = librosa.feature.mfcc(y = data, n_mfcc = 1000,sr=sr )\n",
    "            mfccs_padded = np.zeros((128,216))\n",
    "            for i in range(128):\n",
    "                for j in range(len(mfccs[0])):\n",
    "                    mfccs_padded[i][j] = mfccs[i][j]\n",
    "            if int(file[7:8])==6:\n",
    "                num = 0\n",
    "            else:\n",
    "                num = 1\n",
    "            arr = mfccs_padded, num    \n",
    "            holder.append(arr)\n",
    "    return zip(*holder)"
   ]
  },
  {
   "cell_type": "code",
   "execution_count": 7,
   "metadata": {},
   "outputs": [],
   "source": [
    "x_train, y_train = split_train_val_test(train_dir)"
   ]
  },
  {
   "cell_type": "code",
   "execution_count": 8,
   "metadata": {},
   "outputs": [],
   "source": [
    "x_val, y_val = split_train_val_test(val_dir)"
   ]
  },
  {
   "cell_type": "code",
   "execution_count": null,
   "metadata": {},
   "outputs": [],
   "source": [
    "#x_test, y_test = split_train_val_test(test_dir)"
   ]
  },
  {
   "cell_type": "code",
   "execution_count": 9,
   "metadata": {},
   "outputs": [
    {
     "name": "stdout",
     "output_type": "stream",
     "text": [
      "(314, 128, 216)\n",
      "(72, 128, 216)\n"
     ]
    }
   ],
   "source": [
    "x_train = np.asarray(x_train)\n",
    "x_val = np.asarray(x_val)\n",
    "#x_test = np.asarray(x_test)\n",
    "\n",
    "y_train = np.asarray(y_train)\n",
    "y_val = np.asarray(y_val)\n",
    "#y_test = np.asarray(y_test)\n",
    "\n",
    "print(x_train.shape)\n",
    "print(x_val.shape)\n",
    "#print(x_test.shape)"
   ]
  },
  {
   "cell_type": "code",
   "execution_count": 10,
   "metadata": {},
   "outputs": [
    {
     "name": "stdout",
     "output_type": "stream",
     "text": [
      "(314,)\n",
      "(314, 128, 216, 1)\n",
      "(72, 128, 216, 1)\n"
     ]
    }
   ],
   "source": [
    "x_train = x_train.reshape((x_train.shape[0],128,216,1))\n",
    "x_val = x_val.reshape((x_val.shape[0],128,216,1))\n",
    "#x_test = x_test.reshape((x_test.shape[0],128,216,1))\n",
    "\n",
    "print(y_train.shape)\n",
    "print(x_train.shape)\n",
    "print(x_val.shape)"
   ]
  },
  {
   "cell_type": "code",
   "execution_count": 45,
   "metadata": {},
   "outputs": [
    {
     "name": "stdout",
     "output_type": "stream",
     "text": [
      "Model: \"sequential_9\"\n",
      "_________________________________________________________________\n",
      "Layer (type)                 Output Shape              Param #   \n",
      "=================================================================\n",
      "conv2d_9 (Conv2D)            (None, 126, 214, 128)     1280      \n",
      "_________________________________________________________________\n",
      "batch_normalization_9 (Batch (None, 126, 214, 128)     512       \n",
      "_________________________________________________________________\n",
      "activation_9 (Activation)    (None, 126, 214, 128)     0         \n",
      "_________________________________________________________________\n",
      "max_pooling2d_9 (MaxPooling2 (None, 63, 107, 128)      0         \n",
      "_________________________________________________________________\n",
      "flatten_9 (Flatten)          (None, 862848)            0         \n",
      "_________________________________________________________________\n",
      "dense_11 (Dense)             (None, 1)                 862849    \n",
      "=================================================================\n",
      "Total params: 864,641\n",
      "Trainable params: 864,385\n",
      "Non-trainable params: 256\n",
      "_________________________________________________________________\n"
     ]
    }
   ],
   "source": [
    "#simple cnn baseline\n",
    "\n",
    "from tensorflow.keras.layers import Conv2D\n",
    "from tensorflow.keras.layers import MaxPooling2D\n",
    "from tensorflow.keras.layers import Dropout\n",
    "from tensorflow.keras.layers import BatchNormalization\n",
    "\n",
    "class custom_callback(tensorflow.keras.callbacks.Callback):\n",
    "    def on_epoch_end(self,epoch,logs={}):\n",
    "        if (logs.get('val_accuracy'))>0.9:\n",
    "            print(\"Training accuracy > 90 % so training has been stopped\")\n",
    "            self.model.stop_training=True\n",
    "\n",
    "callback = custom_callback()\n",
    "\n",
    "model = Sequential()\n",
    "model.add(Conv2D(128,3,input_shape=(128,216,1),activation='relu'))\n",
    "model.add(BatchNormalization())\n",
    "model.add(Activation('relu'))\n",
    "model.add(MaxPooling2D())\n",
    "model.add(Flatten())\n",
    "model.add(Dense(1,activation='sigmoid'))\n",
    "model.summary()\n",
    "model.compile(optimizer='adam',loss='binary_crossentropy',metrics=['accuracy'])"
   ]
  },
  {
   "cell_type": "code",
   "execution_count": 46,
   "metadata": {},
   "outputs": [
    {
     "name": "stdout",
     "output_type": "stream",
     "text": [
      "Train on 314 samples, validate on 72 samples\n",
      "Epoch 1/40\n",
      "314/314 [==============================] - 2s 6ms/sample - loss: 34.6696 - accuracy: 0.5892 - val_loss: 10.0524 - val_accuracy: 0.7083\n",
      "Epoch 2/40\n",
      "314/314 [==============================] - 1s 4ms/sample - loss: 3.9579 - accuracy: 0.8089 - val_loss: 2.4470 - val_accuracy: 0.8611\n",
      "Epoch 3/40\n",
      "314/314 [==============================] - 1s 4ms/sample - loss: 3.0761 - accuracy: 0.8185 - val_loss: 4.9518 - val_accuracy: 0.7361\n",
      "Epoch 4/40\n",
      "314/314 [==============================] - 1s 4ms/sample - loss: 1.2266 - accuracy: 0.9140 - val_loss: 2.1787 - val_accuracy: 0.8472\n",
      "Epoch 5/40\n",
      "314/314 [==============================] - 1s 4ms/sample - loss: 0.5409 - accuracy: 0.9427 - val_loss: 4.5832 - val_accuracy: 0.7500\n",
      "Epoch 6/40\n",
      "314/314 [==============================] - 1s 4ms/sample - loss: 0.7905 - accuracy: 0.9522 - val_loss: 1.6825 - val_accuracy: 0.8611\n",
      "Epoch 7/40\n",
      "314/314 [==============================] - 1s 4ms/sample - loss: 0.1135 - accuracy: 0.9873 - val_loss: 1.7317 - val_accuracy: 0.8889\n",
      "Epoch 8/40\n",
      "314/314 [==============================] - 1s 4ms/sample - loss: 0.1020 - accuracy: 0.9809 - val_loss: 5.1150 - val_accuracy: 0.7639\n",
      "Epoch 9/40\n",
      "314/314 [==============================] - 1s 4ms/sample - loss: 0.0352 - accuracy: 0.9936 - val_loss: 4.5042 - val_accuracy: 0.7778\n",
      "Epoch 10/40\n",
      "314/314 [==============================] - 1s 4ms/sample - loss: 0.0472 - accuracy: 0.9873 - val_loss: 3.4381 - val_accuracy: 0.8194\n",
      "Epoch 11/40\n",
      "314/314 [==============================] - 1s 4ms/sample - loss: 0.0498 - accuracy: 0.9936 - val_loss: 2.7502 - val_accuracy: 0.8611\n",
      "Epoch 12/40\n",
      "314/314 [==============================] - 1s 4ms/sample - loss: 0.0945 - accuracy: 0.9841 - val_loss: 2.4156 - val_accuracy: 0.8889\n",
      "Epoch 13/40\n",
      "314/314 [==============================] - 1s 4ms/sample - loss: 0.1930 - accuracy: 0.9777 - val_loss: 4.7907 - val_accuracy: 0.8333\n",
      "Epoch 14/40\n",
      "314/314 [==============================] - 1s 4ms/sample - loss: 1.2593 - accuracy: 0.9236 - val_loss: 37.7348 - val_accuracy: 0.5417\n",
      "Epoch 15/40\n",
      "314/314 [==============================] - 1s 4ms/sample - loss: 6.1129 - accuracy: 0.8312 - val_loss: 3.6285 - val_accuracy: 0.8611\n",
      "Epoch 16/40\n",
      "314/314 [==============================] - 1s 4ms/sample - loss: 1.2990 - accuracy: 0.9554 - val_loss: 7.6284 - val_accuracy: 0.7778\n",
      "Epoch 17/40\n",
      "314/314 [==============================] - 1s 4ms/sample - loss: 0.4224 - accuracy: 0.9713 - val_loss: 9.8364 - val_accuracy: 0.7778\n",
      "Epoch 18/40\n",
      "314/314 [==============================] - 1s 4ms/sample - loss: 1.4941 - accuracy: 0.9395 - val_loss: 7.8861 - val_accuracy: 0.8333\n",
      "Epoch 19/40\n",
      "304/314 [============================>.] - ETA: 0s - loss: 0.9949 - accuracy: 0.9539Training accuracy > 90 % so training has been stopped\n",
      "314/314 [==============================] - 1s 4ms/sample - loss: 0.9735 - accuracy: 0.9522 - val_loss: 2.5196 - val_accuracy: 0.9028\n"
     ]
    }
   ],
   "source": [
    "EPOCHS = 40\n",
    "\n",
    "history = model.fit(x_train,y_train,batch_size=16,epochs=EPOCHS,shuffle=True,validation_data=(x_val,y_val),callbacks=[callback])"
   ]
  },
  {
   "cell_type": "code",
   "execution_count": 47,
   "metadata": {},
   "outputs": [
    {
     "data": {
      "image/png": "[encoded data removed]",
      "text/plain": [
       "<Figure size 432x288 with 1 Axes>"
      ]
     },
     "metadata": {
      "needs_background": "light"
     },
     "output_type": "display_data"
    }
   ],
   "source": [
    "history_obj = history.history\n",
    "epochs = [i for i in range(1,19+1)]\n",
    "plt.plot(epochs,history_obj['accuracy'],color='green',label='Training Accuracy')\n",
    "plt.plot(epochs,history_obj['val_accuracy'],color='orange',label='Validation Accuracy')\n",
    "plt.xlabel(\"Epochs\")\n",
    "plt.ylabel(\"Accuracy\")\n",
    "plt.legend()\n",
    "plt.show()"
   ]
  },
  {
   "cell_type": "code",
   "execution_count": 48,
   "metadata": {
    "scrolled": true
   },
   "outputs": [
    {
     "data": {
      "image/png": "[encoded data removed]",
      "text/plain": [
       "<Figure size 432x288 with 1 Axes>"
      ]
     },
     "metadata": {
      "needs_background": "light"
     },
     "output_type": "display_data"
    }
   ],
   "source": [
    "plt.plot(epochs,history_obj['loss'],color='blue',label='Training Loss')\n",
    "plt.plot(epochs,history_obj['val_loss'],color='red',label='Validation Loss')\n",
    "plt.xlabel(\"Epochs\")\n",
    "plt.ylabel(\"Loss\")\n",
    "plt.legend()\n",
    "plt.show()"
   ]
  },
  {
   "cell_type": "code",
   "execution_count": 42,
   "metadata": {
    "scrolled": true
   },
   "outputs": [
    {
     "name": "stdout",
     "output_type": "stream",
     "text": [
      "              precision    recall  f1-score   support\n",
      "\n",
      "           0       0.89      0.89      0.89        36\n",
      "           1       0.89      0.89      0.89        36\n",
      "\n",
      "    accuracy                           0.89        72\n",
      "   macro avg       0.89      0.89      0.89        72\n",
      "weighted avg       0.89      0.89      0.89        72\n",
      "\n"
     ]
    }
   ],
   "source": [
    "from sklearn.metrics import classification_report\n",
    "\n",
    "pred = model.predict(x_val)\n",
    "pred = [0 if i <= 0.5 else 1 for i in pred]\n",
    "report = classification_report(y_val,pred)\n",
    "print(report)"
   ]
  },
  {
   "cell_type": "code",
   "execution_count": 41,
   "metadata": {},
   "outputs": [
    {
     "name": "stdout",
     "output_type": "stream",
     "text": [
      "Model: \"sequential_5\"\n",
      "_________________________________________________________________\n",
      "Layer (type)                 Output Shape              Param #   \n",
      "=================================================================\n",
      "conv2d_15 (Conv2D)           (None, 126, 214, 32)      320       \n",
      "_________________________________________________________________\n",
      "batch_normalization_15 (Batc (None, 126, 214, 32)      128       \n",
      "_________________________________________________________________\n",
      "leaky_re_lu_15 (LeakyReLU)   (None, 126, 214, 32)      0         \n",
      "_________________________________________________________________\n",
      "max_pooling2d_15 (MaxPooling (None, 63, 107, 32)       0         \n",
      "_________________________________________________________________\n",
      "dropout_6 (Dropout)          (None, 63, 107, 32)       0         \n",
      "_________________________________________________________________\n",
      "conv2d_16 (Conv2D)           (None, 61, 105, 64)       18496     \n",
      "_________________________________________________________________\n",
      "batch_normalization_16 (Batc (None, 61, 105, 64)       256       \n",
      "_________________________________________________________________\n",
      "leaky_re_lu_16 (LeakyReLU)   (None, 61, 105, 64)       0         \n",
      "_________________________________________________________________\n",
      "max_pooling2d_16 (MaxPooling (None, 30, 52, 64)        0         \n",
      "_________________________________________________________________\n",
      "dropout_7 (Dropout)          (None, 30, 52, 64)        0         \n",
      "_________________________________________________________________\n",
      "conv2d_17 (Conv2D)           (None, 28, 50, 128)       73856     \n",
      "_________________________________________________________________\n",
      "batch_normalization_17 (Batc (None, 28, 50, 128)       512       \n",
      "_________________________________________________________________\n",
      "leaky_re_lu_17 (LeakyReLU)   (None, 28, 50, 128)       0         \n",
      "_________________________________________________________________\n",
      "max_pooling2d_17 (MaxPooling (None, 14, 25, 128)       0         \n",
      "_________________________________________________________________\n",
      "dropout_8 (Dropout)          (None, 14, 25, 128)       0         \n",
      "_________________________________________________________________\n",
      "flatten_5 (Flatten)          (None, 44800)             0         \n",
      "_________________________________________________________________\n",
      "dense_10 (Dense)             (None, 512)               22938112  \n",
      "_________________________________________________________________\n",
      "dense_11 (Dense)             (None, 1)                 513       \n",
      "=================================================================\n",
      "Total params: 23,032,193\n",
      "Trainable params: 23,031,745\n",
      "Non-trainable params: 448\n",
      "_________________________________________________________________\n"
     ]
    }
   ],
   "source": [
    "from tensorflow.keras.layers import Conv2D\n",
    "from tensorflow.keras.layers import MaxPooling2D\n",
    "from tensorflow.keras.layers import Dropout\n",
    "from tensorflow.keras.layers import BatchNormalization\n",
    "from tensorflow.keras.layers import LeakyReLU\n",
    "\n",
    "class custom_callback(tensorflow.keras.callbacks.Callback):\n",
    "    def on_epoch_end(self,epoch,logs={}):\n",
    "        if (logs.get('val_accuracy')>0.9 and logs.get('accuracy')>0.9):\n",
    "            print(\"Validation accuracy > 90 % so training has been stopped\")\n",
    "            self.model.stop_training=True\n",
    "\n",
    "callback = custom_callback()\n",
    "\n",
    "model = Sequential()\n",
    "model.add(Conv2D(32,3,input_shape=(128,216,1)))\n",
    "model.add(BatchNormalization())\n",
    "model.add(LeakyReLU())\n",
    "model.add(MaxPooling2D())\n",
    "model.add(Dropout(0.1))\n",
    "model.add(Conv2D(64,3))\n",
    "model.add(BatchNormalization())\n",
    "model.add(LeakyReLU())\n",
    "model.add(MaxPooling2D())\n",
    "model.add(Dropout(0.1))\n",
    "model.add(Conv2D(128,3))\n",
    "model.add(BatchNormalization())\n",
    "model.add(LeakyReLU())\n",
    "model.add(MaxPooling2D())\n",
    "model.add(Dropout(0.1))\n",
    "model.add(Flatten())\n",
    "model.add(Dense(512,activation='relu'))\n",
    "model.add(Dense(1,activation='sigmoid'))\n",
    "model.summary()\n",
    "model.compile(optimizer='adam',loss='binary_crossentropy',metrics=['accuracy'])"
   ]
  },
  {
   "cell_type": "code",
   "execution_count": 42,
   "metadata": {},
   "outputs": [
    {
     "name": "stdout",
     "output_type": "stream",
     "text": [
      "Train on 314 samples, validate on 72 samples\n",
      "Epoch 1/100\n",
      "314/314 [==============================] - 2s 6ms/sample - loss: 10.7640 - accuracy: 0.5287 - val_loss: 1.9728 - val_accuracy: 0.5833\n",
      "Epoch 2/100\n",
      "314/314 [==============================] - 1s 3ms/sample - loss: 0.8531 - accuracy: 0.7229 - val_loss: 0.7355 - val_accuracy: 0.7361\n",
      "Epoch 3/100\n",
      "314/314 [==============================] - 1s 3ms/sample - loss: 0.6799 - accuracy: 0.7006 - val_loss: 0.3889 - val_accuracy: 0.8472\n",
      "Epoch 4/100\n",
      "314/314 [==============================] - 1s 3ms/sample - loss: 0.4849 - accuracy: 0.7611 - val_loss: 0.3912 - val_accuracy: 0.8333\n",
      "Epoch 5/100\n",
      "314/314 [==============================] - 1s 3ms/sample - loss: 0.5109 - accuracy: 0.7580 - val_loss: 0.4425 - val_accuracy: 0.8056\n",
      "Epoch 6/100\n",
      "314/314 [==============================] - 1s 3ms/sample - loss: 0.3306 - accuracy: 0.8662 - val_loss: 0.3781 - val_accuracy: 0.8611\n",
      "Epoch 7/100\n",
      "314/314 [==============================] - 1s 3ms/sample - loss: 0.3777 - accuracy: 0.8408 - val_loss: 1.0822 - val_accuracy: 0.5556\n",
      "Epoch 8/100\n",
      "314/314 [==============================] - 1s 3ms/sample - loss: 0.3539 - accuracy: 0.8376 - val_loss: 0.4576 - val_accuracy: 0.7500\n",
      "Epoch 9/100\n",
      "314/314 [==============================] - 1s 3ms/sample - loss: 0.2333 - accuracy: 0.8949 - val_loss: 0.4008 - val_accuracy: 0.8750\n",
      "Epoch 10/100\n",
      "314/314 [==============================] - 1s 3ms/sample - loss: 0.1870 - accuracy: 0.9299 - val_loss: 0.4451 - val_accuracy: 0.8194\n",
      "Epoch 11/100\n",
      "314/314 [==============================] - 1s 3ms/sample - loss: 0.1701 - accuracy: 0.9268 - val_loss: 0.5588 - val_accuracy: 0.7639\n",
      "Epoch 12/100\n",
      "314/314 [==============================] - 1s 3ms/sample - loss: 0.1210 - accuracy: 0.9682 - val_loss: 0.4489 - val_accuracy: 0.7639\n",
      "Epoch 13/100\n",
      "314/314 [==============================] - 1s 3ms/sample - loss: 0.1855 - accuracy: 0.9236 - val_loss: 0.4824 - val_accuracy: 0.7639\n",
      "Epoch 14/100\n",
      "314/314 [==============================] - 1s 3ms/sample - loss: 0.1434 - accuracy: 0.9459 - val_loss: 0.3582 - val_accuracy: 0.8750\n",
      "Epoch 15/100\n",
      "314/314 [==============================] - 1s 3ms/sample - loss: 0.1232 - accuracy: 0.9459 - val_loss: 0.3625 - val_accuracy: 0.8889\n",
      "Epoch 16/100\n",
      "314/314 [==============================] - 1s 3ms/sample - loss: 0.0688 - accuracy: 0.9745 - val_loss: 0.3611 - val_accuracy: 0.8889\n",
      "Epoch 17/100\n",
      "304/314 [============================>.] - ETA: 0s - loss: 0.0628 - accuracy: 0.9737Validation accuracy > 90 % so training has been stopped\n",
      "314/314 [==============================] - 1s 3ms/sample - loss: 0.0614 - accuracy: 0.9745 - val_loss: 0.3889 - val_accuracy: 0.9028\n"
     ]
    }
   ],
   "source": [
    "EPOCHS = 100\n",
    "\n",
    "history = model.fit(x_train,y_train,batch_size=16,epochs=EPOCHS,shuffle=True,validation_data=(x_val,y_val),callbacks=[callback])"
   ]
  },
  {
   "cell_type": "code",
   "execution_count": 44,
   "metadata": {},
   "outputs": [
    {
     "data": {
      "image/png": "[encoded data removed]",
      "text/plain": [
       "<Figure size 432x288 with 1 Axes>"
      ]
     },
     "metadata": {
      "needs_background": "light"
     },
     "output_type": "display_data"
    }
   ],
   "source": [
    "history_obj = history.history\n",
    "epochs = [i for i in range(1,17+1)]\n",
    "plt.plot(epochs,history_obj['accuracy'],color='green',label='Training Accuracy')\n",
    "plt.plot(epochs,history_obj['val_accuracy'],color='orange',label='Validation Accuracy')\n",
    "plt.xlabel(\"Epochs\")\n",
    "plt.ylabel(\"Accuracy\")\n",
    "plt.legend()\n",
    "plt.show()"
   ]
  },
  {
   "cell_type": "code",
   "execution_count": 45,
   "metadata": {},
   "outputs": [
    {
     "data": {
      "image/png": "[encoded data removed]",
      "text/plain": [
       "<Figure size 432x288 with 1 Axes>"
      ]
     },
     "metadata": {
      "needs_background": "light"
     },
     "output_type": "display_data"
    }
   ],
   "source": [
    "plt.plot(epochs,history_obj['loss'],color='blue',label='Training Loss')\n",
    "plt.plot(epochs,history_obj['val_loss'],color='red',label='Validation Loss')\n",
    "plt.xlabel(\"Epochs\")\n",
    "plt.ylabel(\"Loss\")\n",
    "plt.legend()\n",
    "plt.show()"
   ]
  },
  {
   "cell_type": "code",
   "execution_count": 46,
   "metadata": {},
   "outputs": [
    {
     "name": "stdout",
     "output_type": "stream",
     "text": [
      "              precision    recall  f1-score   support\n",
      "\n",
      "           0       0.89      0.92      0.90        36\n",
      "           1       0.91      0.89      0.90        36\n",
      "\n",
      "    accuracy                           0.90        72\n",
      "   macro avg       0.90      0.90      0.90        72\n",
      "weighted avg       0.90      0.90      0.90        72\n",
      "\n"
     ]
    }
   ],
   "source": [
    "from sklearn.metrics import classification_report\n",
    "\n",
    "pred = model.predict(x_val)\n",
    "pred = [0 if i <= 0.5 else 1 for i in pred]\n",
    "report = classification_report(y_val,pred)\n",
    "print(report)"
   ]
  },
  {
   "cell_type": "code",
   "execution_count": null,
   "metadata": {},
   "outputs": [],
   "source": []
  }
 ],
 "metadata": {
  "kernelspec": {
   "display_name": "Python 3",
   "language": "python",
   "name": "python3"
  },
  "language_info": {
   "codemirror_mode": {
    "name": "ipython",
    "version": 3
   },
   "file_extension": ".py",
   "mimetype": "text/x-python",
   "name": "python",
   "nbconvert_exporter": "python",
   "pygments_lexer": "ipython3",
   "version": "3.7.7"
  }
 },
 "nbformat": 4,
 "nbformat_minor": 4
}
